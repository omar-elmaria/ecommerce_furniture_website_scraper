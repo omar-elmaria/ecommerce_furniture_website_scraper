{
 "cells": [
  {
   "cell_type": "markdown",
   "metadata": {},
   "source": [
    "### Step 1: Load Packages"
   ]
  },
  {
   "cell_type": "code",
   "execution_count": 15,
   "metadata": {},
   "outputs": [],
   "source": [
    "import json\n",
    "import os\n",
    "from dotenv import load_dotenv\n",
    "import pandas as pd"
   ]
  },
  {
   "cell_type": "markdown",
   "metadata": {},
   "source": [
    "### Step 2: Load environment variables"
   ]
  },
  {
   "cell_type": "code",
   "execution_count": 16,
   "metadata": {},
   "outputs": [
    {
     "data": {
      "text/plain": [
       "True"
      ]
     },
     "execution_count": 16,
     "metadata": {},
     "output_type": "execute_result"
    }
   ],
   "source": [
    "load_dotenv()"
   ]
  },
  {
   "cell_type": "markdown",
   "metadata": {},
   "source": [
    "### Step 3: Get the names of all JSON files"
   ]
  },
  {
   "cell_type": "code",
   "execution_count": 17,
   "metadata": {},
   "outputs": [
    {
     "name": "stdout",
     "output_type": "stream",
     "text": [
      "['home_page.json', 'cat_page.json', 'prod_page.json']\n"
     ]
    }
   ],
   "source": [
    "json_files = [i for i in os.listdir(os.getenv(\"JSON_FILES_PATH\")) if i.endswith(\".json\") and \"page\" in i]\n",
    "\n",
    "print(json_files)"
   ]
  },
  {
   "cell_type": "markdown",
   "metadata": {},
   "source": [
    "### Step 4: Open the json files and store them in the right data frames"
   ]
  },
  {
   "cell_type": "code",
   "execution_count": 18,
   "metadata": {},
   "outputs": [],
   "source": [
    "for js in json_files:\n",
    "    with open(os.path.join(os.getenv(\"JSON_FILES_PATH\"), js), \"r\") as js_file:\n",
    "        json_data = json.load(js_file)\n",
    "\n",
    "    if js == \"home_page.json\":\n",
    "        df_home_page = pd.DataFrame(json_data)\n",
    "    elif js == \"cat_page.json\":\n",
    "        df_cat_page = pd.DataFrame(json_data)\n",
    "    else:\n",
    "        df_prod_page = pd.DataFrame(json_data)"
   ]
  },
  {
   "cell_type": "markdown",
   "metadata": {},
   "source": [
    "### Step 5: Combine the JSON files"
   ]
  },
  {
   "cell_type": "code",
   "execution_count": 48,
   "metadata": {},
   "outputs": [
    {
     "data": {
      "text/html": [
       "<div>\n",
       "<style scoped>\n",
       "    .dataframe tbody tr th:only-of-type {\n",
       "        vertical-align: middle;\n",
       "    }\n",
       "\n",
       "    .dataframe tbody tr th {\n",
       "        vertical-align: top;\n",
       "    }\n",
       "\n",
       "    .dataframe thead th {\n",
       "        text-align: right;\n",
       "    }\n",
       "</style>\n",
       "<table border=\"1\" class=\"dataframe\">\n",
       "  <thead>\n",
       "    <tr style=\"text-align: right;\">\n",
       "      <th></th>\n",
       "      <th>product_name</th>\n",
       "      <th>product_url</th>\n",
       "      <th>category_name</th>\n",
       "      <th>category_url</th>\n",
       "      <th>supplier_url</th>\n",
       "      <th>supplier_name</th>\n",
       "      <th>strikethrough_price</th>\n",
       "      <th>current_price</th>\n",
       "      <th>promised_delivery_time_in_days</th>\n",
       "      <th>main_image_url</th>\n",
       "      <th>page_rank</th>\n",
       "      <th>last_page</th>\n",
       "    </tr>\n",
       "  </thead>\n",
       "  <tbody>\n",
       "    <tr>\n",
       "      <th>0</th>\n",
       "      <td>Side table with marble top - AX91</td>\n",
       "      <td>https://kemitt.com/en-eg/products/6149cca59063...</td>\n",
       "      <td>Tables</td>\n",
       "      <td>https://kemitt.com/en-eg/categories/tables</td>\n",
       "      <td>https://kemitt.com/en-eg/designers/Venus-Steel</td>\n",
       "      <td>Venus-Steel</td>\n",
       "      <td>1600</td>\n",
       "      <td>896</td>\n",
       "      <td>10</td>\n",
       "      <td>https://kemittupload.s3.eu-central-1.amazonaws...</td>\n",
       "      <td>2</td>\n",
       "      <td>58</td>\n",
       "    </tr>\n",
       "    <tr>\n",
       "      <th>1</th>\n",
       "      <td>Side table with marble top - AX105</td>\n",
       "      <td>https://kemitt.com/en-eg/products/614c82b2f71f...</td>\n",
       "      <td>Tables</td>\n",
       "      <td>https://kemitt.com/en-eg/categories/tables</td>\n",
       "      <td>https://kemitt.com/en-eg/designers/Venus-Steel</td>\n",
       "      <td>Venus-Steel</td>\n",
       "      <td>1875</td>\n",
       "      <td>806</td>\n",
       "      <td>10</td>\n",
       "      <td>https://kemittupload.s3.eu-central-1.amazonaws...</td>\n",
       "      <td>2</td>\n",
       "      <td>58</td>\n",
       "    </tr>\n",
       "    <tr>\n",
       "      <th>2</th>\n",
       "      <td>Side Table - RA-SI30</td>\n",
       "      <td>https://kemitt.com/en-eg/products/60291d2a06b6...</td>\n",
       "      <td>Tables</td>\n",
       "      <td>https://kemitt.com/categories/tables</td>\n",
       "      <td>https://kemitt.com/designers/Retro-Agency</td>\n",
       "      <td>Retro-Agency</td>\n",
       "      <td>500</td>\n",
       "      <td>450</td>\n",
       "      <td>15</td>\n",
       "      <td>None</td>\n",
       "      <td>2</td>\n",
       "      <td>58</td>\n",
       "    </tr>\n",
       "    <tr>\n",
       "      <th>3</th>\n",
       "      <td>Side tables with marble top - AX102</td>\n",
       "      <td>https://kemitt.com/en-eg/products/615046d2237a...</td>\n",
       "      <td>Tables</td>\n",
       "      <td>https://kemitt.com/categories/tables</td>\n",
       "      <td>https://kemitt.com/designers/Venus-Steel</td>\n",
       "      <td>Venus-Steel</td>\n",
       "      <td>2800</td>\n",
       "      <td>1903</td>\n",
       "      <td>10</td>\n",
       "      <td>None</td>\n",
       "      <td>2</td>\n",
       "      <td>58</td>\n",
       "    </tr>\n",
       "    <tr>\n",
       "      <th>4</th>\n",
       "      <td>Coffee Table - RA-T07</td>\n",
       "      <td>https://kemitt.com/en-eg/products/5ff2f2338276...</td>\n",
       "      <td>Tables</td>\n",
       "      <td>https://kemitt.com/en-eg/categories/tables</td>\n",
       "      <td>https://kemitt.com/en-eg/designers/Retro-Agency</td>\n",
       "      <td>Retro-Agency</td>\n",
       "      <td>1600</td>\n",
       "      <td>1504</td>\n",
       "      <td>7</td>\n",
       "      <td>None</td>\n",
       "      <td>2</td>\n",
       "      <td>58</td>\n",
       "    </tr>\n",
       "  </tbody>\n",
       "</table>\n",
       "</div>"
      ],
      "text/plain": [
       "                          product_name  \\\n",
       "0    Side table with marble top - AX91   \n",
       "1   Side table with marble top - AX105   \n",
       "2                 Side Table - RA-SI30   \n",
       "3  Side tables with marble top - AX102   \n",
       "4                Coffee Table - RA-T07   \n",
       "\n",
       "                                         product_url category_name  \\\n",
       "0  https://kemitt.com/en-eg/products/6149cca59063...        Tables   \n",
       "1  https://kemitt.com/en-eg/products/614c82b2f71f...        Tables   \n",
       "2  https://kemitt.com/en-eg/products/60291d2a06b6...        Tables   \n",
       "3  https://kemitt.com/en-eg/products/615046d2237a...        Tables   \n",
       "4  https://kemitt.com/en-eg/products/5ff2f2338276...        Tables   \n",
       "\n",
       "                                 category_url  \\\n",
       "0  https://kemitt.com/en-eg/categories/tables   \n",
       "1  https://kemitt.com/en-eg/categories/tables   \n",
       "2        https://kemitt.com/categories/tables   \n",
       "3        https://kemitt.com/categories/tables   \n",
       "4  https://kemitt.com/en-eg/categories/tables   \n",
       "\n",
       "                                      supplier_url supplier_name  \\\n",
       "0   https://kemitt.com/en-eg/designers/Venus-Steel   Venus-Steel   \n",
       "1   https://kemitt.com/en-eg/designers/Venus-Steel   Venus-Steel   \n",
       "2        https://kemitt.com/designers/Retro-Agency  Retro-Agency   \n",
       "3         https://kemitt.com/designers/Venus-Steel   Venus-Steel   \n",
       "4  https://kemitt.com/en-eg/designers/Retro-Agency  Retro-Agency   \n",
       "\n",
       "   strikethrough_price  current_price  promised_delivery_time_in_days  \\\n",
       "0                 1600            896                              10   \n",
       "1                 1875            806                              10   \n",
       "2                  500            450                              15   \n",
       "3                 2800           1903                              10   \n",
       "4                 1600           1504                               7   \n",
       "\n",
       "                                      main_image_url  page_rank  last_page  \n",
       "0  https://kemittupload.s3.eu-central-1.amazonaws...          2         58  \n",
       "1  https://kemittupload.s3.eu-central-1.amazonaws...          2         58  \n",
       "2                                               None          2         58  \n",
       "3                                               None          2         58  \n",
       "4                                               None          2         58  "
      ]
     },
     "execution_count": 48,
     "metadata": {},
     "output_type": "execute_result"
    }
   ],
   "source": [
    "df_combined = pd.merge(left = df_prod_page, right = df_cat_page, how = \"left\", left_on = \"response_url_prod_page\", right_on = \"product_url\", suffixes = [\"_prod_pg\", \"_cat_pg\"])\n",
    "\n",
    "# Drop the unnecessary columns\n",
    "df_combined.drop([\"response_url_prod_page\", \"product_name_cat_pg\", \"response_url_cat_page\"], inplace = True, axis = 1)\n",
    "\n",
    "# Rename the product_name column\n",
    "df_combined.rename(columns = {\"product_name_prod_pg\": \"product_name\"}, inplace = True)\n",
    "\n",
    "# Re-organize the columns\n",
    "cols = [\"product_name\", \"product_url\"] + [col for col in df_combined.columns if col not in ['product_name', \"product_url\"]]\n",
    "df_combined = df_combined[cols]\n",
    "\n",
    "# Display the result\n",
    "df_combined.head()"
   ]
  }
 ],
 "metadata": {
  "kernelspec": {
   "display_name": "Python 3.10.7 ('venv_scraping')",
   "language": "python",
   "name": "python3"
  },
  "language_info": {
   "codemirror_mode": {
    "name": "ipython",
    "version": 3
   },
   "file_extension": ".py",
   "mimetype": "text/x-python",
   "name": "python",
   "nbconvert_exporter": "python",
   "pygments_lexer": "ipython3",
   "version": "3.10.7"
  },
  "orig_nbformat": 4,
  "vscode": {
   "interpreter": {
    "hash": "7c5a224ee8d70e0c2c09da925d09fa4cfc21ad72f8239495770bf94d17e52cd6"
   }
  }
 },
 "nbformat": 4,
 "nbformat_minor": 2
}
